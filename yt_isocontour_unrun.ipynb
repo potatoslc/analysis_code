{
 "cells": [
  {
   "cell_type": "code",
   "execution_count": null,
   "id": "75c25c65-e65d-4885-ae0c-7a45646a1408",
   "metadata": {},
   "outputs": [],
   "source": [
    "import yt\n",
    "d1 = '/home/u0890475/Downloads/plt15000'\n",
    "ds=  yt.load(d1)\n",
    "print(ds.field_list)"
   ]
  },
  {
   "cell_type": "code",
   "execution_count": null,
   "id": "7139491b-c802-4cef-ad07-1bfae1aefa19",
   "metadata": {},
   "outputs": [],
   "source": [
    "field = (\"boxlib\", \"temp\")\n",
    "ad = ds.all_data()\n",
    "\n",
    "print(\"Temperature range:\", ad.min(field).to(\"\"), ad.max(field).to(\"\"))"
   ]
  },
  {
   "cell_type": "code",
   "execution_count": null,
   "id": "375587d2-fd61-4aed-9a7a-61880c5358fd",
   "metadata": {},
   "outputs": [],
   "source": [
    "print(ds.field_info[\"boxlib\", \"temp\"])"
   ]
  },
  {
   "cell_type": "code",
   "execution_count": null,
   "id": "40482997-51d7-434e-9ea6-e3e05b489de6",
   "metadata": {},
   "outputs": [],
   "source": [
    "T_cut = 1300.0  # threshold\n",
    "\n",
    "hot = ad.cut_region([f\"obj['boxlib','temp'] > {T_cut}\"])\n",
    "print(\"Number of cells in region:\", hot['boxlib','temp'].size)\n",
    "import plotly.graph_objects as go\n",
    "import numpy as np\n",
    "\n",
    "# Extract coordinates\n",
    "x = hot[\"x\"].to(\"m\").d\n",
    "y = hot[\"y\"].to(\"m\").d\n",
    "z = hot[\"z\"].to(\"m\").d\n",
    "T = hot[\"boxlib\",\"temp\"].to(\"\").d\n",
    "\n",
    "# downsample if there are millions of points (for performance)\n",
    "N = 100000\n",
    "if len(x) > N:\n",
    "    idx = np.random.choice(len(x), N, replace=False)\n",
    "    x, y, z, T = x[idx], y[idx], z[idx], T[idx]\n",
    "\n",
    "fig = go.Figure(\n",
    "    data=[\n",
    "        go.Scatter3d(\n",
    "            x=x, y=y, z=z,\n",
    "            mode='markers',\n",
    "            marker=dict(\n",
    "                size=2,\n",
    "                color=T,\n",
    "                colorscale='plasma',\n",
    "                cmin=T_cut, cmax=T.max(),\n",
    "                colorbar=dict(title=\"Temperature (K)\")\n",
    "            )\n",
    "        )\n",
    "    ]\n",
    ")\n",
    "fig.update_layout(scene_aspectmode='data', width=900, height=700)\n",
    "fig.show()"
   ]
  }
 ],
 "metadata": {
  "kernelspec": {
   "display_name": "Python 3 (ipykernel)",
   "language": "python",
   "name": "python3"
  },
  "language_info": {
   "codemirror_mode": {
    "name": "ipython",
    "version": 3
   },
   "file_extension": ".py",
   "mimetype": "text/x-python",
   "name": "python",
   "nbconvert_exporter": "python",
   "pygments_lexer": "ipython3",
   "version": "3.12.2"
  }
 },
 "nbformat": 4,
 "nbformat_minor": 5
}
